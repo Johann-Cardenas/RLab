{
 "cells": [
  {
   "cell_type": "code",
   "execution_count": 2,
   "metadata": {},
   "outputs": [
    {
     "name": "stdout",
     "output_type": "stream",
     "text": [
      "(421544, 20)\n"
     ]
    }
   ],
   "source": [
    "import pandas as pd\n",
    "import numpy as np\n",
    "\n",
    "df = pd.read_csv('R-wrkshop.csv')\n",
    "print(df.shape)"
   ]
  },
  {
   "cell_type": "code",
   "execution_count": 3,
   "metadata": {},
   "outputs": [],
   "source": [
    "df1 = df.iloc[:100000]\n",
    "df2 = df.iloc[100000:200000]\n",
    "df3 = df.iloc[200000:300000]\n",
    "df4 = df.iloc[300000:]\n",
    "\n",
    "# save the df in new excel files\n",
    "df1.to_csv('R-wrkshop_1.csv', index=False)\n",
    "df2.to_csv('R-wrkshop_2.csv', index=False)\n",
    "df3.to_csv('R-wrkshop_3.csv', index=False)\n",
    "df4.to_csv('R-wrkshop_4.csv', index=False)"
   ]
  }
 ],
 "metadata": {
  "kernelspec": {
   "display_name": "alfa",
   "language": "python",
   "name": "python3"
  },
  "language_info": {
   "codemirror_mode": {
    "name": "ipython",
    "version": 3
   },
   "file_extension": ".py",
   "mimetype": "text/x-python",
   "name": "python",
   "nbconvert_exporter": "python",
   "pygments_lexer": "ipython3",
   "version": "3.7.12"
  }
 },
 "nbformat": 4,
 "nbformat_minor": 2
}
